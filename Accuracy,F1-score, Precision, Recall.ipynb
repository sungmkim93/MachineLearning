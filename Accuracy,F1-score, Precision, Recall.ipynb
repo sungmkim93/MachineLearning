{
 "cells": [
  {
   "cell_type": "markdown",
   "metadata": {},
   "source": [
    "# Multiclass classification models Performace measure"
   ]
  },
  {
   "cell_type": "markdown",
   "metadata": {},
   "source": [
    "### Confusion Matrix \n",
    "<img src=\"Image/MCMpm_2.png\" style=\"width:600px;height:500px;\">\n",
    "### Performance measure 4가지 \n",
    "<img src=\"Image/MCMpm_1.png\" style=\"width:600px;height:500px;\">\n",
    "#### True positive: 잘 올바르게 예측을 한 경우 (대각선)\n",
    "<img src=\"Image/MCMpm_3.png\" style=\"width:600px;height:500px;\">\n",
    "#### True negative: 거절해야 할 경우를 제대로 잘 거절한 경우 \n",
    "<img src=\"Image/MCMpm_4.png\" style=\"width:300px;height:250px;display:inline-block;\">\n",
    "<img src=\"Image/MCMpm_4-1.png\" style=\"width:300px;height:250px;display:inline-block;\">\n",
    "#### False positive: Classfier가 예측한 것중에서 잘못 예측한 값\n",
    "(True positive를 뺀 나머지 셀로 구성된다)\n",
    "<img src=\"Image/MCMpm_5.png\" style=\"width:300px;height:250px;display:inline-block;\">\n",
    "<img src=\"Image/MCMpm_5-1.png\" style=\"width:300px;height:250px;display:inline-block;\">\n",
    "#### False negative: A라고 예측을 했었어야 했는데 잘못 예측한 값 \n",
    "<img src=\"Image/MCMpm_6.png\" style=\"width:600px;height:500px;display:inline-block;\">"
   ]
  },
  {
   "cell_type": "markdown",
   "metadata": {},
   "source": [
    "## Accuracy\n",
    "Performance measure 중에서 가장 유용하게 많이 사용되는 것.\n",
    "<img src=\"Image/MCMpm_7.png\" style=\"width:600px;height:500px;display:inline-block;\">"
   ]
  },
  {
   "cell_type": "markdown",
   "metadata": {},
   "source": [
    "Accuracy is calculated as the total number of correct predictions divided by the total number of dataset (Accuracy works well on balanced data)<br>\n",
    "<img src=\"Image/MCMpm_8.png\" style=\"width:300px;height:250px;display:inline-block;\">\n",
    "<img src=\"Image/MCMpm_8-1.png\" style=\"width:300px;height:250px;display:inline-block;\"><br>\n",
    "(Model 1이 더 높은값 -> 최종모델로 정하자 라고 결정) <br>\n",
    "-> Accuracy on imbalanced data misleads performance *** 결과: 모델1이 더 낫다. 전반적으로 예측확률이 더 높기 떄문에..<br> ***\n"
   ]
  },
  {
   "cell_type": "markdown",
   "metadata": {},
   "source": [
    "## F1-Score\n",
    "imbalanced data 일 경우 "
   ]
  },
  {
   "cell_type": "markdown",
   "metadata": {},
   "source": [
    "<img src=\"Image/MCMpm_9.png\" style=\"width:600px;height:500px;display:inline-block;\">\n",
    "<img src=\"Image/MCMpm_9-1.png\" style=\"width:600px;height:100px;display:inline-block;\"> <br>\n",
    "#### x축: recall, y축: precision<br>\n",
    "\n",
    "<img src=\"Image/MCMpm_10.png\" style=\"width:300px;height:250px;display:inline-block;\">\n",
    "<img src=\"Image/MCMpm_10-1.png\" style=\"width:300px;height:250px;display:inline-block;\">\n",
    "#### harmonic Mean <br>\n",
    "#### 뭔가 큰값을 가진곳에 panalty, 작은값위주로 평균을 낸다 (조화로운 평균을 준다)<br>\n",
    "## Model1 F1-score (최종값)\n",
    "<img src=\"Image/MCMpm_13.png\" style=\"width:600px;height:500px;display:inline-block;\">"
   ]
  },
  {
   "cell_type": "markdown",
   "metadata": {},
   "source": [
    "### Precision"
   ]
  },
  {
   "cell_type": "markdown",
   "metadata": {},
   "source": [
    "<img src=\"Image/MCMpm_11.png\" style=\"width:600px;height:500px;display:inline-block;\"> <br>\n",
    "macro average -> micro average도 괜찮은 방법"
   ]
  },
  {
   "cell_type": "markdown",
   "metadata": {},
   "source": [
    "### Recall"
   ]
  },
  {
   "cell_type": "markdown",
   "metadata": {},
   "source": [
    "사진\n",
    "<img src=\"Image/MCMpm_12.png\" style=\"width:600px;height:500px;display:inline-block;\">"
   ]
  },
  {
   "cell_type": "markdown",
   "metadata": {},
   "source": [
    "## 결론\n",
    "\n",
    "<img src=\"Image/MCMpm_14.png\" style=\"width:600px;height:500px;display:inline-block;\">\n",
    "<img src=\"Image/MCMpm_15.png\" style=\"width:600px;height:500px;display:inline-block;\">"
   ]
  },
  {
   "cell_type": "code",
   "execution_count": null,
   "metadata": {},
   "outputs": [],
   "source": []
  }
 ],
 "metadata": {
  "kernelspec": {
   "display_name": "Python 3",
   "language": "python",
   "name": "python3"
  },
  "language_info": {
   "codemirror_mode": {
    "name": "ipython",
    "version": 3
   },
   "file_extension": ".py",
   "mimetype": "text/x-python",
   "name": "python",
   "nbconvert_exporter": "python",
   "pygments_lexer": "ipython3",
   "version": "3.6.4"
  }
 },
 "nbformat": 4,
 "nbformat_minor": 2
}
