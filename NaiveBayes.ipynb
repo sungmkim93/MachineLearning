{
 "cells": [
  {
   "cell_type": "markdown",
   "metadata": {},
   "source": [
    "# Probability \n",
    "P(A) = $\\frac{The number of ways event can occur}{The total number of Possible Outcomes}$"
   ]
  },
  {
   "attachments": {},
   "cell_type": "markdown",
   "metadata": {},
   "source": [
    "## Conditional Probablity\n",
    "1. Indipendent\n",
    "<img src=\"Image/Probability_1.png\" style=\"width:800px;height:400px;\">\n",
    "2. dependent\n",
    "<img src=\"Image/Probability_2.png\" style=\"width:800px;height:400px;\">\n",
    "\n",
    "Typo: P(B|A) = P(A∩B) / P(A)"
   ]
  },
  {
   "cell_type": "markdown",
   "metadata": {},
   "source": [
    "# Bayes' Theorem"
   ]
  },
  {
   "attachments": {},
   "cell_type": "markdown",
   "metadata": {},
   "source": [
    "## Formula\n",
    "<img src=\"Image/Bayes' Theorem_1.png\" style=\"width:800px;height:400px;\">"
   ]
  },
  {
   "attachments": {},
   "cell_type": "markdown",
   "metadata": {},
   "source": [
    "## Example Spam mail\n",
    "### ex1\n",
    "<img src=\"Image/Bayes' Theorem_2.png\" style=\"width:800px;height:400px;\"> \n",
    "### ex2\n",
    "<img src=\"Image/Bayes' Theorem_3.png\" style=\"width:800px;height:400px;\">\n",
    "### Practice\n",
    "<img src=\"Image/Bayes' Theorem_4.png\" style=\"width:800px;height:400px;\">"
   ]
  },
  {
   "cell_type": "code",
   "execution_count": null,
   "metadata": {},
   "outputs": [],
   "source": []
  }
 ],
 "metadata": {
  "kernelspec": {
   "display_name": "Python 3",
   "language": "python",
   "name": "python3"
  },
  "language_info": {
   "codemirror_mode": {
    "name": "ipython",
    "version": 3
   },
   "file_extension": ".py",
   "mimetype": "text/x-python",
   "name": "python",
   "nbconvert_exporter": "python",
   "pygments_lexer": "ipython3",
   "version": "3.6.4"
  }
 },
 "nbformat": 4,
 "nbformat_minor": 2
}
