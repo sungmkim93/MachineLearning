{
 "cells": [
  {
   "cell_type": "markdown",
   "metadata": {},
   "source": [
    "# Linear Regression"
   ]
  },
  {
   "cell_type": "markdown",
   "metadata": {},
   "source": [
    "## machineLearning supervised Learning\n",
    "### Classfication vs Regression\n",
    "Knn, DecisionTree,svn\n",
    "미리 학습을 시켜준곳에 input을 넣으면 output을 보인다\n",
    "<img src=\"Image/LinearRegression_1.png\" style=\"width:600px;height:400px;\">"
   ]
  },
  {
   "cell_type": "markdown",
   "metadata": {},
   "source": [
    "## Regression\n",
    "사람의 무게를 줄때, 키를 추측하는것. 1차함수형태 : y = ax+b <br>\n",
    "#### Error - differentce between prediction and real value (실제 있는 점과 선상의 있는 점의 차이)\n",
    "#### Square Error : Error^2\n",
    "장점\n",
    "- 눈에 더 쉽게 보인다. \n",
    "- 에러가 조금이라도 있어도 큰곳과 작은곳을 쉽게 비교할수있다. \n",
    "- 계산이 더 쉽다.\n",
    "- 예측을 조금더 실제값에 가깝게 예측할수있다. \n",
    "\n",
    "### How can you code to find best linear equation?\n",
    "\n",
    "#### Find Linear Equation has Least Mean Square(LMS) Error\n",
    "LMS Error (Least Mean Square Error)\n",
    "<img src=\"Image/LinearRegression_2.png\" style=\"width:600px;height:400px;\">\n",
    "Mean Square Error = how to find least mean square? -> 직선을 긋는 방법? = Gradient Decent!\n",
    "= Square Error 를 평균낸 값.\n",
    "\n",
    "Mean Square Error = Cost Function J(θ): 비용함수(실제, 가설값의 차이) = Objective function\n",
    "\n",
    "#### Gradient Decent(θ 값을 찾기 다음의 θ값을 지금의 θ값으로 찾기) (y=ax 꼴)\n",
    "<img src=\"Image/LinearRegression_3.png\" style=\"width:350px;height:250px;display:inline-block;\">\n",
    "<img src=\"Image/LinearRegression_4.png\" style=\"width:350px;height:250px;display:inline-block;\">\n",
    "\n",
    "θ = parameter <br>\n",
    "α = running rate <br>\n",
    "local minimum일 때까지 계속 진행 (θ가 0에 가까워 지도록 step 반복)\n",
    "\n",
    "### Q&A1. What if we have more theta?  (y=ax+b 꼴)\n",
    "h(x) = θ1x + θ0\n",
    "<img src=\"Image/LinearRegression_5.png\" style=\"width:600px;height:400px;\">\n",
    "\n",
    "\n",
    "### Q&A2. How to decide learning rate? 너무 작게 or 너무 높게 잡지 않는다.\n",
    "<img src=\"Image/LinearRegression_6.png\" style=\"width:600px;height:400px;\">\n",
    "\n",
    "너무 작으면? 시간이 너무 오래걸린다. (minimum으로 내려가는데..)      너무 높으면? 최저점으로 수렴하지 않을수도 있다. "
   ]
  },
  {
   "cell_type": "code",
   "execution_count": null,
   "metadata": {},
   "outputs": [],
   "source": []
  },
  {
   "cell_type": "code",
   "execution_count": null,
   "metadata": {},
   "outputs": [],
   "source": []
  }
 ],
 "metadata": {
  "kernelspec": {
   "display_name": "Python 3",
   "language": "python",
   "name": "python3"
  },
  "language_info": {
   "codemirror_mode": {
    "name": "ipython",
    "version": 3
   },
   "file_extension": ".py",
   "mimetype": "text/x-python",
   "name": "python",
   "nbconvert_exporter": "python",
   "pygments_lexer": "ipython3",
   "version": "3.6.4"
  }
 },
 "nbformat": 4,
 "nbformat_minor": 2
}
