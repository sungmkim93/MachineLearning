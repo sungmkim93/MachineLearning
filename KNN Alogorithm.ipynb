{
 "cells": [
  {
   "cell_type": "markdown",
   "metadata": {},
   "source": [
    "# KNN(k-Nearest Neighbors) Algorithm\n",
    "## 최근접 이웃 알고리즘"
   ]
  },
  {
   "cell_type": "markdown",
   "metadata": {},
   "source": [
    "K는 보통 작고 홀수로 쓰는게 보편적이다. (K=3) <br>\n",
    "How do you find the distance between two points on a coordinate plane Using the Pythaforean THeorem?"
   ]
  },
  {
   "cell_type": "markdown",
   "metadata": {},
   "source": [
    "## Python Code1\n",
    "example:<br>\n",
    "input value : result = classify0([2.0, 3.0], group, labels,3)<br>\n",
    "output value : action"
   ]
  },
  {
   "cell_type": "code",
   "execution_count": 12,
   "metadata": {
    "scrolled": true
   },
   "outputs": [
    {
     "name": "stdout",
     "output_type": "stream",
     "text": [
      "Action\n"
     ]
    }
   ],
   "source": [
    "from numpy import *\n",
    "import operator\n",
    "\n",
    "def createDataSet():\n",
    "    group = array([ [1.0, 2.0], [1.0,4.0], [4.0, 1.0], [4.0, 2.0] ])\n",
    "    labels = ['Action', 'Action', 'Romantic', 'Romantic']\n",
    "    return group, labels\n",
    "\n",
    "def calcDistance(inX, dataSet, labels, k):\n",
    "    # shape is a tuple that gives dimensions of the array\n",
    "    # shape[0] returns the number of rows, here will return 4\n",
    "    dataSetSize = dataSet.shape[0]  # dataSetSize = 4\n",
    "\n",
    "    # numpy.tile(A, reps): construct an array by repeating A the number of times given by reps\n",
    "    # if reps has length d, the result will have dimension of max(d, A.ndim)\n",
    "    # tile(inX, (dataSetSize,1)) will return [ [0,0] [0,0] [0,0] [0,0] ]\n",
    "    # diffMat is [ [1, 1], [1, -1], [-2, 2], [-2, 1] ]\n",
    "    diffMat = tile(inX, (dataSetSize, 1)) - dataSet\n",
    "\n",
    "    # **2 means square\n",
    "    sqDiffMat = diffMat ** 2\n",
    "\n",
    "    # sqDistances = x^2 + y^2\n",
    "    sqDistances = sqDiffMat.sum(axis=1)\n",
    "    # distance is equal to the square root of the sum of the squares of the coordinates\n",
    "    # distance = [2, 2, 8, 5]\n",
    "    distances = sqDistances ** 0.5\n",
    "\n",
    "    # numpy.argsort() returns the indices that would sort an array\n",
    "    # here returns [0 1 3 2]\n",
    "    sortedDistIndices = distances.argsort()\n",
    "    return sortedDistIndices\n",
    "\n",
    "def findMajorityClass(inX, dataSet, labels, k, sortedDistIndices):\n",
    "    classCount = {}\n",
    "\n",
    "    # iterate k times from the closest item\n",
    "    for i in range(k):\n",
    "        voteIlabel = labels[sortedDistIndices[i]]\n",
    "        # increase +1 on the selected label\n",
    "        classCount[voteIlabel] = classCount.get(voteIlabel, 0) + 1\n",
    "\n",
    "    # classCount dictionary : {'Action': 2, 'Romantic': 1}\n",
    "    # sort ClassCount Descending order\n",
    "\n",
    "    return sorted(classCount.items(), key=operator.itemgetter(1), reverse=True)\n",
    "\n",
    "\n",
    "def classify0(inX, dataSet, labels, k):\n",
    "    # calculate the distance between inX and the current point\n",
    "    sortedDistIndices = calcDistance(inX, dataSet, labels, k)\n",
    "    # take k items with lowest distances to inX and find the majority class among k items\n",
    "    sortedClassCount = findMajorityClass(inX, dataSet, labels, k, sortedDistIndices)\n",
    "    # sortedClassCount is now [('Action', 2)], therefore return Action\n",
    "    return sortedClassCount[0][0]\n",
    "\n",
    "\n",
    "group, labels = createDataSet()\n",
    "result = classify0([2.0, 3.0], group, labels,3)\n",
    "print (result)"
   ]
  },
  {
   "cell_type": "code",
   "execution_count": null,
   "metadata": {},
   "outputs": [],
   "source": []
  }
 ],
 "metadata": {
  "kernelspec": {
   "display_name": "Python 3",
   "language": "python",
   "name": "python3"
  },
  "language_info": {
   "codemirror_mode": {
    "name": "ipython",
    "version": 3
   },
   "file_extension": ".py",
   "mimetype": "text/x-python",
   "name": "python",
   "nbconvert_exporter": "python",
   "pygments_lexer": "ipython3",
   "version": "3.6.4"
  }
 },
 "nbformat": 4,
 "nbformat_minor": 2
}
