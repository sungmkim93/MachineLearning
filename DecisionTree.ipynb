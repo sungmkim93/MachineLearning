{
 "cells": [
  {
   "cell_type": "markdown",
   "metadata": {},
   "source": [
    "# Decision Tree\n",
    "## 의사결정트리"
   ]
  },
  {
   "attachments": {},
   "cell_type": "markdown",
   "metadata": {},
   "source": [
    "### How Decision Tree work<br>\n",
    "How do you teach your baby to pick winter family vacation photo?<br>\n",
    "You may say to consider snow, human, and the number of members <br>\n",
    "<img src=\"Image/DecisionTree1.png\" style=\"width:800px;height:400px;\">"
   ]
  },
  {
   "attachments": {},
   "cell_type": "markdown",
   "metadata": {},
   "source": [
    "### Decision Tree, two main concept<br>\n",
    "<img src=\"Image/DecisionTree2.png\" style=\"width:800px;height:400px;\">\n",
    "Three attributes <br>\n",
    " 1.cartoon<br> 2.winter <br>3.more than 1 person <br>"
   ]
  },
  {
   "cell_type": "markdown",
   "metadata": {},
   "source": [
    "### Entropy\n",
    "High Entropy (messy) Low Entropy (Clean) <br>\n",
    "By using attributes, data is split by attributes so Entropy steadily low. \n",
    "-> 각 단계별로 가장 많이 나눠지는 속성을 선택한다. 점점 깔끔해진다\n"
   ]
  },
  {
   "cell_type": "markdown",
   "metadata": {},
   "source": [
    "# ID3 Algorithm(Entropy and Information Gain)"
   ]
  },
  {
   "attachments": {},
   "cell_type": "markdown",
   "metadata": {},
   "source": [
    "## two concept\n",
    "### Entropy\n",
    "<img src=\"Image/ID3_1.png\" style=\"width:800px;height:400px;\">총 8개중 1개만 겨울 가족, 7개는 아니다.\n",
    "가장 처음 상황, 0.543\n",
    "### Information Gain\n",
    "<img src=\"Image/ID3_2.png\" style=\"width:800px;height:400px;\">Information gain이 가장 높은 값을 속성으로 잡는다."
   ]
  },
  {
   "cell_type": "code",
   "execution_count": null,
   "metadata": {},
   "outputs": [],
   "source": []
  }
 ],
 "metadata": {
  "kernelspec": {
   "display_name": "Python 3",
   "language": "python",
   "name": "python3"
  },
  "language_info": {
   "codemirror_mode": {
    "name": "ipython",
    "version": 3
   },
   "file_extension": ".py",
   "mimetype": "text/x-python",
   "name": "python",
   "nbconvert_exporter": "python",
   "pygments_lexer": "ipython3",
   "version": "3.6.4"
  }
 },
 "nbformat": 4,
 "nbformat_minor": 2
}
