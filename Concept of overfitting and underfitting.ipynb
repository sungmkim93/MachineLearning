{
 "cells": [
  {
   "cell_type": "markdown",
   "metadata": {},
   "source": [
    "# Overfitting and Underfitting"
   ]
  },
  {
   "cell_type": "markdown",
   "metadata": {},
   "source": [
    "### 비유: 다양한 체형을 고려하지 못하고 모델들만 생각하여 스키니진을 만드는 상황\n",
    "<img src=\"Image/OverUnderfitting_1.png\" style=\"width:450px;height:400px;display:inline-block;\">\n",
    "<img src=\"Image/OverUnderfitting_1-1.png\" style=\"width:450px;height:400px;display:inline-block;\">"
   ]
  },
  {
   "cell_type": "markdown",
   "metadata": {},
   "source": [
    "### 아직 모르는 data 에서 classifier 가 제대로 작동을 못할경우 = overfitting\n",
    "#### Classfier가 현재 가지고 있는 data에선 잘 작동을 하는데, 다른 data 에서는 잘 작동하지 못한다\n",
    "<img src=\"Image/OverUnderfitting_2.png\" style=\"width:450px;height:400px;display:inline-block;\">\n",
    "<img src=\"Image/OverUnderfitting_2-1.png\" style=\"width:450px;height:400px;display:inline-block;\">\n",
    "<br>blue point: existing data -- ***decision boundry*** -- red point: new data -> all data "
   ]
  },
  {
   "cell_type": "markdown",
   "metadata": {},
   "source": [
    "## Machine Learning Underfitting\n",
    "### your machine was too bias (공은 동그란 모양이야 라고만 train하는 경우)\n",
    "많은 특성들 중 1가지 특성만 가지고 train 된 모델"
   ]
  },
  {
   "cell_type": "markdown",
   "metadata": {},
   "source": [
    "### Teach your machine with more features(more variances, less bias)\n",
    "round shape, you can't eat ball, you can play with ball <br>\n",
    "보다 더 잘 구별할수있다. (Underfitting 해결)"
   ]
  },
  {
   "cell_type": "markdown",
   "metadata": {},
   "source": [
    "### What if you teach machine with too many features from given data?\n",
    "#### your machine recogmition is worse  = your machine had high variance-> overfitting\n",
    "round shape, you can't eat ball, you can play with ball \n",
    "ball has stitch, greater than 70mm in diameter<br>\n",
    "\n",
    "<img src=\"Image/OverUnderfitting_3.png\" style=\"width:600px;height:400px\">\n",
    "봤던 data(배운 data = 기존의 data)에 대해서는 잘 알지만, 보지 못한 data(=배우지 못한)에 대해서는 잘 모름."
   ]
  },
  {
   "cell_type": "markdown",
   "metadata": {},
   "source": [
    "## Bias and Variance\n",
    "<img src=\"Image/OverUnderfitting_4.png\" style=\"width:450px;height:400px;display:inline-block;\">\n",
    "<img src=\"Image/OverUnderfitting_4-1.png\" style=\"width:450px;height:400px;display:inline-block;\">\n",
    "<br>***bias(편차):실제 값에서 예측값이 얼마나 멀어져 있느냐의 척도 <br>\n",
    "variance(분산도): 예측된 값들이 얼마나 떨어져 있나 척도 -> 둘은 tadeoff 관계 ***<br>\n",
    "*** 목표: Low Variance, Low Bias (첫번째 그림 왼쪽 위의 형태)*** <br>"
   ]
  },
  {
   "cell_type": "markdown",
   "metadata": {},
   "source": [
    "### How to overcome underfitting(high bias, low variance)?\n",
    "#### Find more features (bias 낮추고, variance 높이고)\n",
    "#### Try high variance machine learning models(Decision Tree, k-NN, SVM)"
   ]
  },
  {
   "cell_type": "markdown",
   "metadata": {},
   "source": [
    "### How to find if overfitting?\n",
    "when test error is much higher than training error\n",
    "내가 본 data는 잘 맞추는데 잘 모르는건 못 맞춤"
   ]
  },
  {
   "cell_type": "markdown",
   "metadata": {},
   "source": [
    "### How to overcome overfitting(low bias, high variance)?\n",
    "#### 1. Cross Validation\n",
    "#### 2. Regularization\n",
    "#### 3. Add more data as much as possible"
   ]
  },
  {
   "cell_type": "markdown",
   "metadata": {},
   "source": [
    "#### 1.cross validation (validation sets을 갖춘다)\n",
    "<img src=\"Image/OverUnderfitting_5.png\" style=\"width:500px;height:400px\">\n",
    "final validation accuracy < train accuracy -> overfitting\n",
    "train 과정을 높이면서 validation을 높인다.\n",
    "*** process *** \n",
    "1. During training, test against validation data.\n",
    "2. if validation accuracy is lower, do ***regularization!*** -> train 변화\n",
    "3. repeat regularization until no overfitting.\n",
    "\n",
    "#### 2. regularization(variance 값을 낮추는 방법을 사용하는 것)\n",
    "<img src=\"Image/OverUnderfitting_6.png\" style=\"width:500px;height:400px\">\n",
    "\n",
    "##### cost Function of regression (예측값-실제값)제곱의 평균\n",
    "<img src=\"Image/OverUnderfitting_6-1.png\" style=\"width:400px;height:300px\"> \n",
    "<img src=\"Image/OverUnderfitting_6-2.png\" style=\"width:300px;height:250px;display:inline-block;\">\n",
    "<img src=\"Image/OverUnderfitting_6-3.png\" style=\"width:300px;height:250px;display:inline-block;\">\n",
    "<img src=\"Image/OverUnderfitting_6-4.png\" style=\"width:300px;height:250px;display:inline-block;\">\n",
    "\n",
    "theta: regression 함수에서 계수값 을 낮춘다 -> 미분값 낮아짐(선이 완만, 선이 완만, 선이 일반화) -> gradient 값이 낮아짐\n",
    "최종목표 모델비교<br>\n",
    "<img src=\"Image/OverUnderfitting_6-5.png\"style=\"width:500px;height:400px\"> \n",
    "ramda 값에 의해서 기울기가 변화하고 값이 달라진다\n",
    "\n"
   ]
  },
  {
   "cell_type": "markdown",
   "metadata": {},
   "source": [
    "## Deep Learning overfitting and Underfitting\n",
    "### 1. Early stopping \n",
    "<img src=\"Image/OverUnderfitting_7.png\"style=\"width:500px;height:400px\"> \n",
    "계속 학습시키다 보면, 어느 시점에서 taining accuracy은 증가 but validation accuracy은 감소..<br>\n",
    "그래서 validation accuracy가 더이상 올라가지 않을 때, stop 한다 = early stopping point"
   ]
  },
  {
   "cell_type": "markdown",
   "metadata": {},
   "source": [
    "### 2. Drop Out\n",
    "<img src=\"Image/OverUnderfitting_8.png\"style=\"width:500px;height:400px\"> \n",
    "<img src=\"Image/OverUnderfitting_8-1.png\"style=\"width:500px;height:50px\"> \n",
    "\n",
    "training 과정 중에서 몇개의 Neural을 쉬게 만드는 것.\n",
    "-> 작은 variance로 예측을 서로 도와줌 overfitting 감소\n",
    "-> 몇 번 쉬면서 over training 이 낮아짐 "
   ]
  },
  {
   "cell_type": "code",
   "execution_count": null,
   "metadata": {},
   "outputs": [],
   "source": []
  }
 ],
 "metadata": {
  "kernelspec": {
   "display_name": "Python 3",
   "language": "python",
   "name": "python3"
  },
  "language_info": {
   "codemirror_mode": {
    "name": "ipython",
    "version": 3
   },
   "file_extension": ".py",
   "mimetype": "text/x-python",
   "name": "python",
   "nbconvert_exporter": "python",
   "pygments_lexer": "ipython3",
   "version": "3.6.4"
  }
 },
 "nbformat": 4,
 "nbformat_minor": 2
}
